{
 "cells": [
  {
   "cell_type": "markdown",
   "id": "aeac3e20-15fd-4626-b8b9-ca89a9c7adb3",
   "metadata": {},
   "source": [
    "# My Jupyter Notebook on IBM Watson Studio"
   ]
  },
  {
   "cell_type": "markdown",
   "id": "ee8e3785-1084-4a63-b125-cbc5dd3df4d7",
   "metadata": {},
   "source": [
    "## Hatim Alharbi"
   ]
  },
  {
   "cell_type": "markdown",
   "id": "9febdaf1-12a9-491f-a02d-bf18e8d32714",
   "metadata": {},
   "source": [
    "## Teacher"
   ]
  },
  {
   "cell_type": "markdown",
   "id": "448e058d-04f4-402e-80c3-520ef43546ca",
   "metadata": {},
   "source": [
    "*I like data science because it is the future in we live*"
   ]
  },
  {
   "cell_type": "markdown",
   "id": "10a73cb3-8c22-491d-a185-c165d3b39f38",
   "metadata": {},
   "source": [
    "# The below should print \"My name is Hatim\""
   ]
  },
  {
   "cell_type": "code",
   "execution_count": null,
   "id": "04b308b9-c01b-4f5b-be12-ee7ea4521dbe",
   "metadata": {},
   "outputs": [],
   "source": [
    "Print(\"My name is Hatim\")"
   ]
  },
  {
   "cell_type": "markdown",
   "id": "fa32185d-bff0-401d-b35c-1147eac975ec",
   "metadata": {},
   "source": [
    "## Horizontal rule\n",
    "# Use three asterisks: ***\n",
    "\n",
    "## Numbered list#\n",
    "# Start with 1. followed by a space, then your text. Hit return and numbering is automatic. Start each line with some number and a period, then a space. Tab to indent to get subnumbering.\n",
    "\n",
    "\n",
    "## tables\n",
    "# Use this code:\n",
    "\n",
    "# | Heading | Heading |\n",
    "# | ----| ----|\n",
    "# | text   | text |\n",
    "# | text | text |"
   ]
  },
  {
   "cell_type": "code",
   "execution_count": null,
   "id": "61ea5596-67fe-44a9-b045-a57682aa2081",
   "metadata": {},
   "outputs": [],
   "source": []
  }
 ],
 "metadata": {
  "kernelspec": {
   "display_name": "Python",
   "language": "python",
   "name": "conda-env-python-py"
  },
  "language_info": {
   "name": ""
  }
 },
 "nbformat": 4,
 "nbformat_minor": 5
}
